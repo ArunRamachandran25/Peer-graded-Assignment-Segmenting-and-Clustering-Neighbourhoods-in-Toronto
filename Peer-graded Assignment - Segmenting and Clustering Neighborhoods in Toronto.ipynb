{
 "cells": [
  {
   "cell_type": "code",
   "execution_count": 1,
   "id": "delayed-longitude",
   "metadata": {},
   "outputs": [
    {
     "output_type": "stream",
     "name": "stdout",
     "text": [
      "Collecting package metadata (current_repodata.json): done\n",
      "Solving environment: done\n",
      "\n",
      "# All requested packages already installed.\n",
      "\n",
      "Collecting package metadata (current_repodata.json): done\n",
      "Solving environment: done\n",
      "\n",
      "# All requested packages already installed.\n",
      "\n",
      "Libraries imported.\n"
     ]
    }
   ],
   "source": [
    "import numpy as np # library to handle data in a vectorized manner\n",
    "\n",
    "import pandas as pd # library for data analsysis\n",
    "pd.set_option('display.max_columns', None)\n",
    "pd.set_option('display.max_rows', None)\n",
    "\n",
    "import json # library to handle JSON files\n",
    "\n",
    "!conda install -c conda-forge geopy --yes # uncomment this line if you haven't completed the Foursquare API lab\n",
    "from geopy.geocoders import Nominatim # convert an address into latitude and longitude values\n",
    "\n",
    "import requests # library to handle requests\n",
    "from pandas.io.json import json_normalize # tranform JSON file into a pandas dataframe\n",
    "\n",
    "# Matplotlib and associated plotting modules\n",
    "import matplotlib.cm as cm\n",
    "import matplotlib.colors as colors\n",
    "\n",
    "# import k-means from clustering stage\n",
    "from sklearn.cluster import KMeans\n",
    "\n",
    "!conda install -c conda-forge folium=0.5.0 --yes # uncomment this line if you haven't completed the Foursquare API lab\n",
    "import folium # map rendering library\n",
    "\n",
    "print('Libraries imported.')"
   ]
  },
  {
   "cell_type": "code",
   "execution_count": 10,
   "id": "crazy-corner",
   "metadata": {},
   "outputs": [],
   "source": [
    "from bs4 import BeautifulSoup"
   ]
  },
  {
   "cell_type": "code",
   "execution_count": 11,
   "metadata": {},
   "outputs": [],
   "source": [
    "url = \"https://en.wikipedia.org/wiki/List_of_postal_codes_of_Canada:_M\"\n",
    "html_data = requests.get(url).text"
   ]
  },
  {
   "cell_type": "code",
   "execution_count": 12,
   "metadata": {},
   "outputs": [],
   "source": [
    "soup = BeautifulSoup(html_data, \"html.parser\")"
   ]
  },
  {
   "cell_type": "code",
   "execution_count": 19,
   "metadata": {},
   "outputs": [],
   "source": [
    "Postal_Code_data = pd.DataFrame(columns=[\"PostalCode\", \"Borough\", \"Neighborhood\"])\n",
    "\n",
    "for row in soup.find(\"tbody\").find_all(\"tr\"):\n",
    "    col = row.find_all(\"td\")\n",
    "    postalcode = col[0].text\n",
    "    borough = col[1].text\n",
    "    neighborhood = col[2].text\n",
    "    \n",
    "    Postal_Code_data = Postal_Code_data.append({\"PostalCode\":postalcode, \"Borough\":borough, \"Neighborhood\":neighborhood}, ignore_index=True)"
   ]
  },
  {
   "cell_type": "code",
   "execution_count": 20,
   "metadata": {},
   "outputs": [
    {
     "output_type": "execute_result",
     "data": {
      "text/plain": [
       "                                           PostalCode  \\\n",
       "0                               \\nM1ANot assigned\\n\\n   \n",
       "1               \\nM1BScarborough(Malvern / Rouge)\\n\\n   \n",
       "2   \\nM1CScarborough(Rouge Hill / Port Union / Hig...   \n",
       "3   \\nM1EScarborough(Guildwood / Morningside / Wes...   \n",
       "4                        \\nM1GScarborough(Woburn)\\n\\n   \n",
       "5                     \\nM1HScarborough(Cedarbrae)\\n\\n   \n",
       "6           \\nM1JScarborough(Scarborough Village)\\n\\n   \n",
       "7   \\nM1KScarborough(Kennedy Park / Ionview / East...   \n",
       "8   \\nM1LScarborough(Golden Mile / Clairlea / Oakr...   \n",
       "9   \\nM1MScarborough(Cliffside / Cliffcrest / Scar...   \n",
       "10  \\nM1NScarborough(Birch Cliff / Cliffside West)...   \n",
       "11  \\nM1PScarborough(Dorset Park / Wexford Heights...   \n",
       "12           \\nM1RScarborough(Wexford / Maryvale)\\n\\n   \n",
       "13                   \\nM1SScarborough(Agincourt) \\n\\n   \n",
       "14  \\nM1TScarborough(Clarks Corners / Tam O'Shante...   \n",
       "15  \\nM1VScarborough(Milliken / Agincourt North / ...   \n",
       "16  \\nM1WScarborough(Steeles West / L'Amoreaux Wes...   \n",
       "17                  \\nM1XScarborough(Upper Rouge)\\n\\n   \n",
       "18                              \\nM1YNot assigned\\n\\n   \n",
       "19                              \\nM1ZNot assigned\\n\\n   \n",
       "\n",
       "                                              Borough  \\\n",
       "0                               \\nM2ANot assigned\\n\\n   \n",
       "1                               \\nM2BNot assigned\\n\\n   \n",
       "2                               \\nM2CNot assigned\\n\\n   \n",
       "3                               \\nM2ENot assigned\\n\\n   \n",
       "4                               \\nM2GNot assigned\\n\\n   \n",
       "5              \\nM2HNorth York(Hillcrest Village)\\n\\n   \n",
       "6   \\nM2JNorth York(Fairview / Henry Farm / Oriole...   \n",
       "7                \\nM2KNorth York(Bayview Village)\\n\\n   \n",
       "8      \\nM2LNorth York(York Mills / Silver Hills)\\n\\n   \n",
       "9       \\nM2MNorth York(Willowdale / Newtonbrook)\\n\\n   \n",
       "10               \\nM2NNorth York(Willowdale)South\\n\\n   \n",
       "11               \\nM2PNorth York(York Mills West)\\n\\n   \n",
       "12                \\nM2RNorth York(Willowdale)West\\n\\n   \n",
       "13                              \\nM2SNot assigned\\n\\n   \n",
       "14                              \\nM2TNot assigned\\n\\n   \n",
       "15                              \\nM2VNot assigned\\n\\n   \n",
       "16                              \\nM2WNot assigned\\n\\n   \n",
       "17                              \\nM2XNot assigned\\n\\n   \n",
       "18                              \\nM2YNot assigned\\n\\n   \n",
       "19                              \\nM2ZNot assigned\\n\\n   \n",
       "\n",
       "                                         Neighborhood  \n",
       "0                      \\nM3ANorth York(Parkwoods)\\n\\n  \n",
       "1                 \\nM3BNorth York(Don Mills)North\\n\\n  \n",
       "2   \\nM3CNorth York(Don Mills)South(Flemingdon Par...  \n",
       "3                               \\nM3ENot assigned\\n\\n  \n",
       "4                               \\nM3GNot assigned\\n\\n  \n",
       "5   \\nM3HNorth York(Bathurst Manor / Wilson Height...  \n",
       "6   \\nM3JNorth York(Northwood Park / York Universi...  \n",
       "7   \\nM3KNorth York(Downsview)East  (CFB Toronto)\\n\\n  \n",
       "8                  \\nM3LNorth York(Downsview)West\\n\\n  \n",
       "9               \\nM3MNorth York(Downsview)Central\\n\\n  \n",
       "10            \\nM3NNorth York(Downsview)Northwest\\n\\n  \n",
       "11                              \\nM3PNot assigned\\n\\n  \n",
       "12                              \\nM3RNot assigned\\n\\n  \n",
       "13                              \\nM3SNot assigned\\n\\n  \n",
       "14                              \\nM3TNot assigned\\n\\n  \n",
       "15                              \\nM3VNot assigned\\n\\n  \n",
       "16                              \\nM3WNot assigned\\n\\n  \n",
       "17                              \\nM3XNot assigned\\n\\n  \n",
       "18                              \\nM3YNot assigned\\n\\n  \n",
       "19                              \\nM3ZNot assigned\\n\\n  "
      ],
      "text/html": "<div>\n<style scoped>\n    .dataframe tbody tr th:only-of-type {\n        vertical-align: middle;\n    }\n\n    .dataframe tbody tr th {\n        vertical-align: top;\n    }\n\n    .dataframe thead th {\n        text-align: right;\n    }\n</style>\n<table border=\"1\" class=\"dataframe\">\n  <thead>\n    <tr style=\"text-align: right;\">\n      <th></th>\n      <th>PostalCode</th>\n      <th>Borough</th>\n      <th>Neighborhood</th>\n    </tr>\n  </thead>\n  <tbody>\n    <tr>\n      <th>0</th>\n      <td>\\nM1ANot assigned\\n\\n</td>\n      <td>\\nM2ANot assigned\\n\\n</td>\n      <td>\\nM3ANorth York(Parkwoods)\\n\\n</td>\n    </tr>\n    <tr>\n      <th>1</th>\n      <td>\\nM1BScarborough(Malvern / Rouge)\\n\\n</td>\n      <td>\\nM2BNot assigned\\n\\n</td>\n      <td>\\nM3BNorth York(Don Mills)North\\n\\n</td>\n    </tr>\n    <tr>\n      <th>2</th>\n      <td>\\nM1CScarborough(Rouge Hill / Port Union / Hig...</td>\n      <td>\\nM2CNot assigned\\n\\n</td>\n      <td>\\nM3CNorth York(Don Mills)South(Flemingdon Par...</td>\n    </tr>\n    <tr>\n      <th>3</th>\n      <td>\\nM1EScarborough(Guildwood / Morningside / Wes...</td>\n      <td>\\nM2ENot assigned\\n\\n</td>\n      <td>\\nM3ENot assigned\\n\\n</td>\n    </tr>\n    <tr>\n      <th>4</th>\n      <td>\\nM1GScarborough(Woburn)\\n\\n</td>\n      <td>\\nM2GNot assigned\\n\\n</td>\n      <td>\\nM3GNot assigned\\n\\n</td>\n    </tr>\n    <tr>\n      <th>5</th>\n      <td>\\nM1HScarborough(Cedarbrae)\\n\\n</td>\n      <td>\\nM2HNorth York(Hillcrest Village)\\n\\n</td>\n      <td>\\nM3HNorth York(Bathurst Manor / Wilson Height...</td>\n    </tr>\n    <tr>\n      <th>6</th>\n      <td>\\nM1JScarborough(Scarborough Village)\\n\\n</td>\n      <td>\\nM2JNorth York(Fairview / Henry Farm / Oriole...</td>\n      <td>\\nM3JNorth York(Northwood Park / York Universi...</td>\n    </tr>\n    <tr>\n      <th>7</th>\n      <td>\\nM1KScarborough(Kennedy Park / Ionview / East...</td>\n      <td>\\nM2KNorth York(Bayview Village)\\n\\n</td>\n      <td>\\nM3KNorth York(Downsview)East  (CFB Toronto)\\n\\n</td>\n    </tr>\n    <tr>\n      <th>8</th>\n      <td>\\nM1LScarborough(Golden Mile / Clairlea / Oakr...</td>\n      <td>\\nM2LNorth York(York Mills / Silver Hills)\\n\\n</td>\n      <td>\\nM3LNorth York(Downsview)West\\n\\n</td>\n    </tr>\n    <tr>\n      <th>9</th>\n      <td>\\nM1MScarborough(Cliffside / Cliffcrest / Scar...</td>\n      <td>\\nM2MNorth York(Willowdale / Newtonbrook)\\n\\n</td>\n      <td>\\nM3MNorth York(Downsview)Central\\n\\n</td>\n    </tr>\n    <tr>\n      <th>10</th>\n      <td>\\nM1NScarborough(Birch Cliff / Cliffside West)...</td>\n      <td>\\nM2NNorth York(Willowdale)South\\n\\n</td>\n      <td>\\nM3NNorth York(Downsview)Northwest\\n\\n</td>\n    </tr>\n    <tr>\n      <th>11</th>\n      <td>\\nM1PScarborough(Dorset Park / Wexford Heights...</td>\n      <td>\\nM2PNorth York(York Mills West)\\n\\n</td>\n      <td>\\nM3PNot assigned\\n\\n</td>\n    </tr>\n    <tr>\n      <th>12</th>\n      <td>\\nM1RScarborough(Wexford / Maryvale)\\n\\n</td>\n      <td>\\nM2RNorth York(Willowdale)West\\n\\n</td>\n      <td>\\nM3RNot assigned\\n\\n</td>\n    </tr>\n    <tr>\n      <th>13</th>\n      <td>\\nM1SScarborough(Agincourt) \\n\\n</td>\n      <td>\\nM2SNot assigned\\n\\n</td>\n      <td>\\nM3SNot assigned\\n\\n</td>\n    </tr>\n    <tr>\n      <th>14</th>\n      <td>\\nM1TScarborough(Clarks Corners / Tam O'Shante...</td>\n      <td>\\nM2TNot assigned\\n\\n</td>\n      <td>\\nM3TNot assigned\\n\\n</td>\n    </tr>\n    <tr>\n      <th>15</th>\n      <td>\\nM1VScarborough(Milliken / Agincourt North / ...</td>\n      <td>\\nM2VNot assigned\\n\\n</td>\n      <td>\\nM3VNot assigned\\n\\n</td>\n    </tr>\n    <tr>\n      <th>16</th>\n      <td>\\nM1WScarborough(Steeles West / L'Amoreaux Wes...</td>\n      <td>\\nM2WNot assigned\\n\\n</td>\n      <td>\\nM3WNot assigned\\n\\n</td>\n    </tr>\n    <tr>\n      <th>17</th>\n      <td>\\nM1XScarborough(Upper Rouge)\\n\\n</td>\n      <td>\\nM2XNot assigned\\n\\n</td>\n      <td>\\nM3XNot assigned\\n\\n</td>\n    </tr>\n    <tr>\n      <th>18</th>\n      <td>\\nM1YNot assigned\\n\\n</td>\n      <td>\\nM2YNot assigned\\n\\n</td>\n      <td>\\nM3YNot assigned\\n\\n</td>\n    </tr>\n    <tr>\n      <th>19</th>\n      <td>\\nM1ZNot assigned\\n\\n</td>\n      <td>\\nM2ZNot assigned\\n\\n</td>\n      <td>\\nM3ZNot assigned\\n\\n</td>\n    </tr>\n  </tbody>\n</table>\n</div>"
     },
     "metadata": {},
     "execution_count": 20
    }
   ],
   "source": [
    "Postal_Code_data"
   ]
  },
  {
   "cell_type": "code",
   "execution_count": 22,
   "metadata": {},
   "outputs": [],
   "source": [
    "url = \"https://en.wikipedia.org/wiki/List_of_postal_codes_of_Canada:_M\"\n",
    "\n",
    "dfs = pd.read_html(url)\n",
    "\n",
    "df = dfs[0]"
   ]
  },
  {
   "cell_type": "code",
   "execution_count": null,
   "metadata": {},
   "outputs": [],
   "source": []
  }
 ],
 "metadata": {
  "kernelspec": {
   "display_name": "Python 3",
   "language": "python",
   "name": "python3"
  },
  "language_info": {
   "codemirror_mode": {
    "name": "ipython",
    "version": 3
   },
   "file_extension": ".py",
   "mimetype": "text/x-python",
   "name": "python",
   "nbconvert_exporter": "python",
   "pygments_lexer": "ipython3",
   "version": "3.8.3-final"
  }
 },
 "nbformat": 4,
 "nbformat_minor": 5
}